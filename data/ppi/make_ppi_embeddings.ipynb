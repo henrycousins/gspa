{
  "nbformat": 4,
  "nbformat_minor": 0,
  "metadata": {
    "colab": {
      "provenance": [],
      "collapsed_sections": []
    },
    "kernelspec": {
      "name": "python3",
      "display_name": "Python 3"
    },
    "language_info": {
      "name": "python"
    }
  },
  "cells": [
    {
      "cell_type": "code",
      "execution_count": null,
      "metadata": {
        "id": "FTWW2Jkd00AJ"
      },
      "outputs": [],
      "source": []
    },
    {
      "cell_type": "code",
      "metadata": {
        "id": "mL9l4fWMoohh",
        "colab": {
          "base_uri": "https://localhost:8080/"
        },
        "outputId": "4be1583a-63eb-4d68-c096-29b514e81b3f"
      },
      "source": [
        "from google.colab import drive\n",
        "drive.mount('/content/drive')\n",
        "\n",
        "import os\n",
        "import re\n",
        "import sys\n",
        "import numpy as np\n",
        "import pandas as pd\n",
        "import glob as glob\n",
        "import scipy.stats\n",
        "import pickle\n",
        "import random as random\n",
        "from sklearn import metrics as skm\n",
        "\n",
        "from sklearn import preprocessing, model_selection\n"
      ],
      "execution_count": 1,
      "outputs": [
        {
          "output_type": "stream",
          "name": "stdout",
          "text": [
            "Mounted at /content/drive\n"
          ]
        }
      ]
    },
    {
      "cell_type": "code",
      "metadata": {
        "id": "QEI31cuDGM3i",
        "colab": {
          "base_uri": "https://localhost:8080/"
        },
        "outputId": "568e8493-1ee2-4ff4-e006-affe2ce6657d"
      },
      "source": [
        "# Requires Stellargraph (version 1.2.1)\n",
        "\n",
        "import stellargraph as sg\n",
        "from stellargraph.mapper import FullBatchNodeGenerator\n",
        "from stellargraph.layer import GCN\n",
        "from stellargraph import StellarGraph, datasets\n",
        "\n",
        "from stellargraph.data import BiasedRandomWalk\n",
        "from sklearn.manifold import TSNE\n",
        "\n",
        "import networkx as nx\n",
        "\n",
        "from gensim.models import Word2Vec\n",
        "\n",
        "try:\n",
        "    sg.utils.validate_notebook_version(\"1.2.1\")\n",
        "except AttributeError:\n",
        "    raise ValueError(\n",
        "        f\"This notebook requires StellarGraph version 1.2.1, but a different version {sg.__version__} is installed.  Please see <https://github.com/stellargraph/stellargraph/issues/1172>.\"\n",
        "    ) from None\n"
      ],
      "execution_count": 2,
      "outputs": [
        {
          "output_type": "stream",
          "name": "stdout",
          "text": [
            "\u001b[K     |████████████████████████████████| 435 kB 4.1 MB/s \n",
            "\u001b[K     |████████████████████████████████| 500 kB 38.7 MB/s \n",
            "\u001b[K     |████████████████████████████████| 120 kB 30.5 MB/s \n",
            "\u001b[K     |████████████████████████████████| 1.6 MB 43.9 MB/s \n",
            "\u001b[K     |████████████████████████████████| 82 kB 493 kB/s \n",
            "\u001b[K     |████████████████████████████████| 41 kB 526 kB/s \n",
            "\u001b[?25h  Building wheel for mplleaflet (setup.py) ... \u001b[?25l\u001b[?25hdone\n"
          ]
        }
      ]
    },
    {
      "cell_type": "code",
      "metadata": {
        "id": "hzw_dsDqHg-R"
      },
      "source": [
        "# Whether to download results\n",
        "\n",
        "save_results = False"
      ],
      "execution_count": 5,
      "outputs": []
    },
    {
      "cell_type": "code",
      "metadata": {
        "id": "dzO2cbELFZ-2"
      },
      "source": [
        "links = pd.read_csv('edges.csv')\n",
        "\n",
        "human_ppi_nodes = list(set(list(links.gene1) + list(links.gene2)))\n",
        "\n",
        "G = nx.Graph()\n",
        "G.add_nodes_from(human_ppi_nodes)\n",
        "\n",
        "positive_edges = list([x for x in zip(links.gene1,links.gene2)])\n",
        "G.add_edges_from(positive_edges)\n"
      ],
      "execution_count": null,
      "outputs": []
    },
    {
      "cell_type": "code",
      "metadata": {
        "id": "duidlJX4L0wf"
      },
      "source": [
        "G_sg = StellarGraph.from_networkx(G)\n",
        "\n",
        "rw = BiasedRandomWalk(G_sg)\n",
        "\n",
        "walks = rw.run(\n",
        "    nodes=list(G_sg.nodes()),\n",
        "    length = 100,\n",
        "    n = 10,\n",
        "    p = 0.5,\n",
        "    q = 2.0,\n",
        ")\n",
        "print(\"Number of random walks: {}\".format(len(walks)))\n",
        "\n",
        "str_walks = [[str(n) for n in walk] for walk in walks]\n",
        "model = Word2Vec(str_walks, size=128, window=5, min_count=0, sg=1, workers=2, iter=1)\n",
        "\n",
        "node_ids = model.wv.index2word\n",
        "node_embeddings = (\n",
        "    model.wv.vectors\n",
        ")\n",
        "\n",
        "if save_results:\n",
        "    pickle.dump(node_ids, open('humanppi_node_ids.p', 'wb'))\n",
        "    pickle.dump(node_embeddings, open('humanppi_node_embs.p', 'wb'))\n"
      ],
      "execution_count": null,
      "outputs": []
    }
  ]
}
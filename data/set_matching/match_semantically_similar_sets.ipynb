{
  "nbformat": 4,
  "nbformat_minor": 0,
  "metadata": {
    "colab": {
      "provenance": [],
      "collapsed_sections": []
    },
    "kernelspec": {
      "name": "python3",
      "display_name": "Python 3"
    },
    "language_info": {
      "name": "python"
    }
  },
  "cells": [
    {
      "cell_type": "code",
      "metadata": {
        "id": "c-CIbnWF6Bvi"
      },
      "source": [
        "def gmt2dict(gmt):\n",
        "    with open(gmt) as genesets:\n",
        "        genesets_dict = { line.strip().split(\"\\t\")[0]: line.strip().split(\"\\t\")[2:]\n",
        "                                    for line in genesets.readlines()}\n",
        "    return genesets_dict\n",
        "\n",
        "kegg = gmt2dict('gene_sets/kegg.gmt')\n",
        "\n",
        "kegg_names = [x for x in kegg.keys()]"
      ],
      "execution_count": 3,
      "outputs": []
    },
    {
      "cell_type": "code",
      "source": [
        "\n",
        "similar_sets = []\n",
        "for aa in kegg_names:\n",
        "  a = aa[9:].lower().replace('_',' ')\n",
        "  for bb in kegg_names:\n",
        "    b = bb[9:].lower().replace('_',' ')\n",
        "    if aa != bb:\n",
        "      if a == b:\n",
        "        similar_sets.append([aa,bb])\n",
        "      a_list = a.split(' ')\n",
        "      b_list = b.split(' ')\n",
        "      if set(a_list) == set(a_list) & set(b_list):\n",
        "        if len(set(a_list)) > 0:\n",
        "          similar_sets.append([aa,bb])\n",
        "      if set(b_list) == set(a_list) & set(b_list):\n",
        "        if len(set(b_list)) > 0:\n",
        "          similar_sets.append([aa,bb])\n",
        "\n",
        "similar_sets_2 = [tuple(sorted(x)) for x in similar_sets]\n",
        "similar_sets = list(set(similar_sets_2))\n",
        "print(len(similar_sets))\n",
        "\n",
        "for s in similar_sets:\n",
        "    print(s)"
      ],
      "metadata": {
        "colab": {
          "base_uri": "https://localhost:8080/"
        },
        "id": "IqbzTaOwKNOj",
        "outputId": "e7312a3a-0a45-45e3-86c9-3b454f26a238"
      },
      "execution_count": 5,
      "outputs": [
        {
          "output_type": "stream",
          "name": "stdout",
          "text": [
            "16\n",
            "('hsa03008_Ribosome_biogenesis_in_eukaryotes', 'hsa03010_Ribosome')\n",
            "('hsa00532_Glycosaminoglycan_biosynthesis', 'hsa00534_Glycosaminoglycan_biosynthesis')\n",
            "('hsa04211_Longevity_regulating_pathway', 'hsa04213_Longevity_regulating_pathway')\n",
            "('hsa00601_Glycosphingolipid_biosynthesis', 'hsa00603_Glycosphingolipid_biosynthesis')\n",
            "('hsa01200_Carbon_metabolism', 'hsa05230_Central_carbon_metabolism_in_cancer')\n",
            "('hsa00601_Glycosphingolipid_biosynthesis', 'hsa00604_Glycosphingolipid_biosynthesis')\n",
            "('hsa00603_Glycosphingolipid_biosynthesis', 'hsa00604_Glycosphingolipid_biosynthesis')\n",
            "('hsa00982_Drug_metabolism', 'hsa00983_Drug_metabolism')\n",
            "('hsa04390_Hippo_signaling_pathway', 'hsa04392_Hippo_signaling_pathway')\n",
            "('hsa00532_Glycosaminoglycan_biosynthesis', 'hsa00533_Glycosaminoglycan_biosynthesis')\n",
            "('hsa04210_Apoptosis', 'hsa04215_Apoptosis')\n",
            "('hsa00100_Steroid_biosynthesis', 'hsa00140_Steroid_hormone_biosynthesis')\n",
            "('hsa04136_Autophagy', 'hsa04140_Autophagy')\n",
            "('hsa05204_Chemical_carcinogenesis', 'hsa05207_Chemical_carcinogenesis')\n",
            "('hsa00533_Glycosaminoglycan_biosynthesis', 'hsa00534_Glycosaminoglycan_biosynthesis')\n",
            "('hsa00510_N-Glycan_biosynthesis', 'hsa00513_Various_types_of_N-glycan_biosynthesis')\n"
          ]
        }
      ]
    }
  ]
}